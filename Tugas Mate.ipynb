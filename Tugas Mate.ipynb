{
 "cells": [
  {
   "cell_type": "markdown",
   "metadata": {},
   "source": [
    "# Limit"
   ]
  },
  {
   "cell_type": "markdown",
   "metadata": {},
   "source": [
    "Langkah pertama yang harus dilakukan adalah import sympy dan memberikan nama alias menjadi sym"
   ]
  },
  {
   "cell_type": "code",
   "execution_count": 22,
   "metadata": {},
   "outputs": [],
   "source": [
    "import sympy as sym"
   ]
  },
  {
   "cell_type": "markdown",
   "metadata": {},
   "source": [
    "Lalu kita import fungsi limit yang berada dalam fungsi sympy."
   ]
  },
  {
   "cell_type": "code",
   "execution_count": 3,
   "metadata": {},
   "outputs": [],
   "source": [
    "from sympy import limit"
   ]
  },
  {
   "cell_type": "markdown",
   "metadata": {},
   "source": [
    "Dari fungsi sympy.abc, kita meng-import variabel x"
   ]
  },
  {
   "cell_type": "code",
   "execution_count": 4,
   "metadata": {},
   "outputs": [],
   "source": [
    "from sympy.abc import x"
   ]
  },
  {
   "cell_type": "markdown",
   "metadata": {},
   "source": [
    "Di bagian ini digunakan perintah print untuk menampilkan soal nomor 1, lalu menggunakan fungsi limit yang berada di fungsi sympy yang diberi nama alias yaitu sym untuk mengeksekusi soal limit."
   ]
  },
  {
   "cell_type": "code",
   "execution_count": 5,
   "metadata": {},
   "outputs": [
    {
     "name": "stdout",
     "output_type": "stream",
     "text": [
      "Soal Nomor 1\n"
     ]
    },
    {
     "data": {
      "text/latex": [
       "$\\displaystyle \\lim_{x \\to 4^+}\\left(\\frac{2 x^{2} + x - 15}{x^{2} + 7 x + 12}\\right)$"
      ],
      "text/plain": [
       "Limit((2*x**2 + x - 15)/(x**2 + 7*x + 12), x, 4)"
      ]
     },
     "execution_count": 5,
     "metadata": {},
     "output_type": "execute_result"
    }
   ],
   "source": [
    "print(\"Soal Nomor 1\")\n",
    "sym.Limit((2*x**2+x-15)/(x**2+7*x+12),x,4)"
   ]
  },
  {
   "cell_type": "markdown",
   "metadata": {},
   "source": [
    "Di bagian ini digunakan perintah print yang berfungsi untuk menunjukkan jawaban nomor 1, lalu menggunakan fungsi limit dan perintah doit untuk menghitung hasil dari soal nomor 1."
   ]
  },
  {
   "cell_type": "code",
   "execution_count": 6,
   "metadata": {},
   "outputs": [
    {
     "name": "stdout",
     "output_type": "stream",
     "text": [
      "Jawaban Nomor 1\n"
     ]
    },
    {
     "data": {
      "text/latex": [
       "$\\displaystyle \\frac{3}{8}$"
      ],
      "text/plain": [
       "3/8"
      ]
     },
     "execution_count": 6,
     "metadata": {},
     "output_type": "execute_result"
    }
   ],
   "source": [
    "print(\"Jawaban Nomor 1\")\n",
    "sym.Limit((2*x**2+x-15)/(x**2+7*x+12),x,4).doit()"
   ]
  },
  {
   "cell_type": "markdown",
   "metadata": {},
   "source": [
    "Di bagian ini digunakan perintah print untuk menampilkan soal nomor 2, lalu menggunakan fungsi limit yang berada di fungsi sympy untuk menampilkan soal."
   ]
  },
  {
   "cell_type": "code",
   "execution_count": 7,
   "metadata": {},
   "outputs": [
    {
     "name": "stdout",
     "output_type": "stream",
     "text": [
      "Soal Nomor 2\n"
     ]
    },
    {
     "data": {
      "text/latex": [
       "$\\displaystyle \\lim_{x \\to 4^+}\\left(\\frac{3 x^{2} - 14 x + 8}{x^{2} - 3 x - 4}\\right)$"
      ],
      "text/plain": [
       "Limit((3*x**2 - 14*x + 8)/(x**2 - 3*x - 4), x, 4)"
      ]
     },
     "execution_count": 7,
     "metadata": {},
     "output_type": "execute_result"
    }
   ],
   "source": [
    "print(\"Soal Nomor 2\")\n",
    "sym.Limit((3*x**2-14*x+8)/(x**2-3*x-4),x,4)"
   ]
  },
  {
   "cell_type": "markdown",
   "metadata": {},
   "source": [
    "Di bagian ini digunakan perintah print yang berfungsi untuk menunjukkan jawaban nomor 2, lalu menggunakan fungsi limit dan perintah doit untuk menghitung hasil dari soal nomor 2."
   ]
  },
  {
   "cell_type": "code",
   "execution_count": 8,
   "metadata": {},
   "outputs": [
    {
     "name": "stdout",
     "output_type": "stream",
     "text": [
      "Jawaban Nomor 2\n"
     ]
    },
    {
     "data": {
      "text/latex": [
       "$\\displaystyle 2$"
      ],
      "text/plain": [
       "2"
      ]
     },
     "execution_count": 8,
     "metadata": {},
     "output_type": "execute_result"
    }
   ],
   "source": [
    "print(\"Jawaban Nomor 2\")\n",
    "sym.Limit((3*x**2-14*x+8)/(x**2-3*x-4),x,4).doit()"
   ]
  },
  {
   "cell_type": "markdown",
   "metadata": {},
   "source": [
    "DI bagian ini digunakan perintah print untuk menampilkan soal nomor 3, lalu menggunakan fungsi limit yang berada di fungsi sympy untuk menampilkan soal."
   ]
  },
  {
   "cell_type": "code",
   "execution_count": 9,
   "metadata": {},
   "outputs": [
    {
     "name": "stdout",
     "output_type": "stream",
     "text": [
      "Soal Nomor 3\n"
     ]
    },
    {
     "data": {
      "text/latex": [
       "$\\displaystyle \\lim_{x \\to 2^+}\\left(\\frac{x^{2} - 5 x + 6}{x^{2} + 2 x - 8}\\right)$"
      ],
      "text/plain": [
       "Limit((x**2 - 5*x + 6)/(x**2 + 2*x - 8), x, 2)"
      ]
     },
     "execution_count": 9,
     "metadata": {},
     "output_type": "execute_result"
    }
   ],
   "source": [
    "print(\"Soal Nomor 3\")\n",
    "sym.Limit((x**2-5*x+6)/(x**2+2*x-8),x,2)"
   ]
  },
  {
   "cell_type": "markdown",
   "metadata": {},
   "source": [
    "Di bagian ini digunakan perintah print yang berfungsi untuk menunjukkan jawaban nomor 3, lalu menggunakan fungsi limit dan perintah doit untuk menghitung hasil dari soal nomor 3."
   ]
  },
  {
   "cell_type": "code",
   "execution_count": 10,
   "metadata": {},
   "outputs": [
    {
     "name": "stdout",
     "output_type": "stream",
     "text": [
      "Jawaban Nomor 3\n"
     ]
    },
    {
     "data": {
      "text/latex": [
       "$\\displaystyle - \\frac{1}{6}$"
      ],
      "text/plain": [
       "-1/6"
      ]
     },
     "execution_count": 10,
     "metadata": {},
     "output_type": "execute_result"
    }
   ],
   "source": [
    "print(\"Jawaban Nomor 3\")\n",
    "sym.Limit((x**2-5*x+6)/(x**2+2*x-8),x,2).doit()"
   ]
  },
  {
   "cell_type": "markdown",
   "metadata": {},
   "source": [
    "Di bagian ini digunakan perintah print untuk menampilkan soal nomor 4, lalu menggunakan fungsi limit yang berada di fungsi sympy untuk menampilkan soal."
   ]
  },
  {
   "cell_type": "code",
   "execution_count": 11,
   "metadata": {},
   "outputs": [
    {
     "name": "stdout",
     "output_type": "stream",
     "text": [
      "Soal Nomor 4\n"
     ]
    },
    {
     "data": {
      "text/latex": [
       "$\\displaystyle \\lim_{x \\to 3^+}\\left(\\frac{x^{2} - 9}{x^{2} - x - 6}\\right)$"
      ],
      "text/plain": [
       "Limit((x**2 - 9)/(x**2 - x - 6), x, 3)"
      ]
     },
     "execution_count": 11,
     "metadata": {},
     "output_type": "execute_result"
    }
   ],
   "source": [
    "print(\"Soal Nomor 4\")\n",
    "sym.Limit((x**2-9)/(x**2-x-6),x,3)"
   ]
  },
  {
   "cell_type": "markdown",
   "metadata": {},
   "source": [
    "Di bagian ini digunakan perintah print yang berfungsi untuk menunjukkan jawaban nomor 4, lalu menggunakan fungsi limit dan perintah doit untuk menghitung hasil dari soal nomor 4."
   ]
  },
  {
   "cell_type": "code",
   "execution_count": 12,
   "metadata": {},
   "outputs": [
    {
     "name": "stdout",
     "output_type": "stream",
     "text": [
      "Jawaban Nomor 4\n"
     ]
    },
    {
     "data": {
      "text/latex": [
       "$\\displaystyle \\frac{6}{5}$"
      ],
      "text/plain": [
       "6/5"
      ]
     },
     "execution_count": 12,
     "metadata": {},
     "output_type": "execute_result"
    }
   ],
   "source": [
    "print(\"Jawaban Nomor 4\")\n",
    "sym.Limit((x**2-9)/(x**2-x-6),x,3).doit()"
   ]
  },
  {
   "cell_type": "markdown",
   "metadata": {},
   "source": [
    "# Turunan"
   ]
  },
  {
   "cell_type": "markdown",
   "metadata": {},
   "source": [
    "Langkah pertama yang harus dilakukan adalah import fungsi math."
   ]
  },
  {
   "cell_type": "code",
   "execution_count": 21,
   "metadata": {},
   "outputs": [],
   "source": [
    "import math"
   ]
  },
  {
   "cell_type": "markdown",
   "metadata": {},
   "source": [
    "Dari sympy kemudian import semua fungsi yang terdapat didalamnya"
   ]
  },
  {
   "cell_type": "code",
   "execution_count": 23,
   "metadata": {},
   "outputs": [],
   "source": [
    "from sympy import *"
   ]
  },
  {
   "cell_type": "markdown",
   "metadata": {},
   "source": [
    "Kemudian import simbol x y z yang nantinya akan digunakan dalam operasi penghitungan."
   ]
  },
  {
   "cell_type": "code",
   "execution_count": 24,
   "metadata": {},
   "outputs": [],
   "source": [
    "x, y, z = symbols('x y z')"
   ]
  },
  {
   "cell_type": "markdown",
   "metadata": {},
   "source": [
    "Di bagian ini digunakan perintah print untuk menampilkan soal nomor 4. Lalu dengan fungsi derivative menampilkan soal ke dalam program."
   ]
  },
  {
   "cell_type": "code",
   "execution_count": 25,
   "metadata": {},
   "outputs": [
    {
     "name": "stdout",
     "output_type": "stream",
     "text": [
      "Soal Nomor 4\n"
     ]
    },
    {
     "data": {
      "text/latex": [
       "$\\displaystyle \\frac{d}{d y} \\left(12 + \\frac{8}{y^{2}} - \\frac{9}{y^{3}} + \\frac{1}{y^{4}}\\right)$"
      ],
      "text/plain": [
       "Derivative(12 + 8/y**2 - 9/y**3 + y**(-4), y)"
      ]
     },
     "execution_count": 25,
     "metadata": {},
     "output_type": "execute_result"
    }
   ],
   "source": [
    "print('Soal Nomor 4')\n",
    "a = Derivative(y**-4-9*y**-3+8*y**-2+12)\n",
    "a"
   ]
  },
  {
   "cell_type": "markdown",
   "metadata": {},
   "source": [
    "Di bagian ini digunakan perintah print untuk menunjukkan jawaban nomor 4. Lalu menampilkan hasil dari operasi turunan soal nomor 4 menggunakan fungsi derivative dan perintah doit untuk mengeksekusinya."
   ]
  },
  {
   "cell_type": "code",
   "execution_count": 26,
   "metadata": {},
   "outputs": [
    {
     "name": "stdout",
     "output_type": "stream",
     "text": [
      "Jawaban Nomor 4\n"
     ]
    },
    {
     "data": {
      "text/latex": [
       "$\\displaystyle - \\frac{16}{y^{3}} + \\frac{27}{y^{4}} - \\frac{4}{y^{5}}$"
      ],
      "text/plain": [
       "-16/y**3 + 27/y**4 - 4/y**5"
      ]
     },
     "execution_count": 26,
     "metadata": {},
     "output_type": "execute_result"
    }
   ],
   "source": [
    "print('Jawaban Nomor 4')\n",
    "a.doit()"
   ]
  },
  {
   "cell_type": "markdown",
   "metadata": {},
   "source": [
    "Di bagian ini digunakan perintah print untuk menampilkan soal nomor 9. Lalu dengan fungsi derivative menampilkan soal ke dalam program."
   ]
  },
  {
   "cell_type": "code",
   "execution_count": 27,
   "metadata": {},
   "outputs": [
    {
     "name": "stdout",
     "output_type": "stream",
     "text": [
      "Soal Nomor 9\n"
     ]
    },
    {
     "data": {
      "text/latex": [
       "$\\displaystyle \\frac{d}{d x} x \\left(3 x^{2} - 9\\right)$"
      ],
      "text/plain": [
       "Derivative(x*(3*x**2 - 9), x)"
      ]
     },
     "execution_count": 27,
     "metadata": {},
     "output_type": "execute_result"
    }
   ],
   "source": [
    "print('Soal Nomor 9')\n",
    "b = Derivative(x*(3*x**2-9))\n",
    "b"
   ]
  },
  {
   "cell_type": "markdown",
   "metadata": {},
   "source": [
    "Di bagian ini digunakan perintah print untuk menunjukkan jawaban nomor 9. Lalu menampilkan hasil dari operasi turunan soal nomor 9 menggunakan fungsi derivative dan perintah doit untuk mengeksekusinya."
   ]
  },
  {
   "cell_type": "code",
   "execution_count": 28,
   "metadata": {},
   "outputs": [
    {
     "name": "stdout",
     "output_type": "stream",
     "text": [
      "Jawaban Nomor 9\n"
     ]
    },
    {
     "data": {
      "text/latex": [
       "$\\displaystyle 9 x^{2} - 9$"
      ],
      "text/plain": [
       "9*x**2 - 9"
      ]
     },
     "execution_count": 28,
     "metadata": {},
     "output_type": "execute_result"
    }
   ],
   "source": [
    "print('Jawaban Nomor 9')\n",
    "b.doit()"
   ]
  },
  {
   "cell_type": "markdown",
   "metadata": {},
   "source": [
    "Di bagian ini digunakan perintah print untuk menampilkan soal nomor 14. Lalu dengan fungsi derivative menampilkan soal ke dalam program."
   ]
  },
  {
   "cell_type": "code",
   "execution_count": 29,
   "metadata": {},
   "outputs": [
    {
     "name": "stdout",
     "output_type": "stream",
     "text": [
      "Soal Nomor 14\n"
     ]
    },
    {
     "data": {
      "text/latex": [
       "$\\displaystyle \\frac{d}{d z} \\left(2 z^{4} - z^{3} - 3 z^{2}\\right)$"
      ],
      "text/plain": [
       "Derivative(2*z**4 - z**3 - 3*z**2, z)"
      ]
     },
     "execution_count": 29,
     "metadata": {},
     "output_type": "execute_result"
    }
   ],
   "source": [
    "print('Soal Nomor 14')\n",
    "c = Derivative(2*z**4-z**3-3*z**2)\n",
    "c"
   ]
  },
  {
   "cell_type": "markdown",
   "metadata": {},
   "source": [
    "Di bagian ini digunakan perintah print untuk menunjukkan jawaban nomor 14. Lalu menampilkan hasil dari operasi turunan soal nomor 14 menggunakan fungsi derivative dan perintah doit untuk mengeksekusinya lalu difaktorkan menggunakan fungsi factor."
   ]
  },
  {
   "cell_type": "code",
   "execution_count": 30,
   "metadata": {},
   "outputs": [
    {
     "name": "stdout",
     "output_type": "stream",
     "text": [
      "Jawaban Nomor 14\n"
     ]
    },
    {
     "data": {
      "text/latex": [
       "$\\displaystyle z \\left(8 z^{2} - 3 z - 6\\right)$"
      ],
      "text/plain": [
       "z*(8*z**2 - 3*z - 6)"
      ]
     },
     "execution_count": 30,
     "metadata": {},
     "output_type": "execute_result"
    }
   ],
   "source": [
    "print('Jawaban Nomor 14')\n",
    "factor(c.doit())"
   ]
  },
  {
   "cell_type": "markdown",
   "metadata": {},
   "source": [
    "Melanjutkan jawaban diatas. Setelah difaktorkan digunakan persamaan kuadrat untuk mencari jawaban nomor 14. Disini saya menggunakan variabel z1 dan fungsi sqrt yang terdapat pada sympy untuk menampilkan akar."
   ]
  },
  {
   "cell_type": "code",
   "execution_count": 31,
   "metadata": {},
   "outputs": [
    {
     "data": {
      "text/latex": [
       "$\\displaystyle \\frac{3}{16} + \\frac{\\sqrt{201}}{16}$"
      ],
      "text/plain": [
       "3/16 + sqrt(201)/16"
      ]
     },
     "execution_count": 31,
     "metadata": {},
     "output_type": "execute_result"
    }
   ],
   "source": [
    "z1 = (3+sym.sqrt(201))/16\n",
    "z1"
   ]
  },
  {
   "cell_type": "markdown",
   "metadata": {},
   "source": [
    "Sama seperti langkah sebelumnya. Dalam bagian ini digunakan persamaan kuadrat untuk mencari jawaban nomor 14. Terdapat variabel z1 dan fungsi sqrt yang berada pada math yang digunakan untuk menghitung operasi aritmatika."
   ]
  },
  {
   "cell_type": "code",
   "execution_count": 32,
   "metadata": {},
   "outputs": [
    {
     "data": {
      "text/plain": [
       "1.0735904299223642"
      ]
     },
     "execution_count": 32,
     "metadata": {},
     "output_type": "execute_result"
    }
   ],
   "source": [
    "z1 = (3+math.sqrt(201))/16\n",
    "z1"
   ]
  },
  {
   "cell_type": "markdown",
   "metadata": {},
   "source": [
    "Setelah difaktorkan gunakan persamaan kuadrat untuk mencari jawaban nomor 14. Disini saya menggunakan variabel z2 dan fungsi sqrt yang terdapat pada sympy untuk menampilkan akar."
   ]
  },
  {
   "cell_type": "code",
   "execution_count": 33,
   "metadata": {},
   "outputs": [
    {
     "data": {
      "text/latex": [
       "$\\displaystyle \\frac{3}{16} - \\frac{\\sqrt{201}}{16}$"
      ],
      "text/plain": [
       "3/16 - sqrt(201)/16"
      ]
     },
     "execution_count": 33,
     "metadata": {},
     "output_type": "execute_result"
    }
   ],
   "source": [
    "z2 = (3-sym.sqrt(201))/16\n",
    "z2"
   ]
  },
  {
   "cell_type": "markdown",
   "metadata": {},
   "source": [
    "Dalam baris ini gunakan persamaan kuadrat untuk mencari jawaban nomor 14. Terdapat variabel z1 dan fungsi sqrt yang berada pada math yang digunakan untuk menghitung operasi aritmatika."
   ]
  },
  {
   "cell_type": "code",
   "execution_count": 34,
   "metadata": {},
   "outputs": [
    {
     "data": {
      "text/plain": [
       "-0.6985904299223641"
      ]
     },
     "execution_count": 34,
     "metadata": {},
     "output_type": "execute_result"
    }
   ],
   "source": [
    "z2 = (3-math.sqrt(201))/16\n",
    "z2"
   ]
  },
  {
   "cell_type": "markdown",
   "metadata": {},
   "source": [
    "Di bagian ini digunakan perintah print untuk menampilkan soal nomor 19. Lalu dengan fungsi derivative menampilkan soal ke dalam program."
   ]
  },
  {
   "cell_type": "code",
   "execution_count": 35,
   "metadata": {},
   "outputs": [
    {
     "name": "stdout",
     "output_type": "stream",
     "text": [
      "Soal Nomor 19\n"
     ]
    },
    {
     "data": {
      "text/latex": [
       "$\\displaystyle \\frac{d}{d x} \\left(x - 2\\right)^{2} \\left(x + 1\\right)$"
      ],
      "text/plain": [
       "Derivative((x - 2)**2*(x + 1), x)"
      ]
     },
     "execution_count": 35,
     "metadata": {},
     "output_type": "execute_result"
    }
   ],
   "source": [
    "print('Soal Nomor 19')\n",
    "d = Derivative((x+1)*(x-2)**2)\n",
    "d"
   ]
  },
  {
   "cell_type": "markdown",
   "metadata": {},
   "source": [
    "Di bagian ini digunakan perintah print untuk menunjukkan jawaban nomor 19. Lalu menampilkan hasil dari operasi turunan soal nomor 19 menggunakan fungsi derivative dan perintah doit untuk mengeksekusinya."
   ]
  },
  {
   "cell_type": "code",
   "execution_count": 36,
   "metadata": {},
   "outputs": [
    {
     "name": "stdout",
     "output_type": "stream",
     "text": [
      "Jawaban Nomor 19\n"
     ]
    },
    {
     "data": {
      "text/latex": [
       "$\\displaystyle \\left(x - 2\\right)^{2} + \\left(x + 1\\right) \\left(2 x - 4\\right)$"
      ],
      "text/plain": [
       "(x - 2)**2 + (x + 1)*(2*x - 4)"
      ]
     },
     "execution_count": 36,
     "metadata": {},
     "output_type": "execute_result"
    }
   ],
   "source": [
    "print('Jawaban Nomor 19')\n",
    "d.doit()"
   ]
  },
  {
   "cell_type": "markdown",
   "metadata": {},
   "source": [
    "# Integral"
   ]
  },
  {
   "cell_type": "markdown",
   "metadata": {},
   "source": [
    "Langkah pertama dilakukan adalah import simbol-simbol yang akan digunakan dalam program."
   ]
  },
  {
   "cell_type": "code",
   "execution_count": 37,
   "metadata": {},
   "outputs": [],
   "source": [
    "w, x, y = symbols('w x y')"
   ]
  },
  {
   "cell_type": "markdown",
   "metadata": {},
   "source": [
    "Di bagian ini digunakan perintah print untuk menampilkan soal nomor 4. Lalu membuat variabel a yang berisi fungsi integral beserta soal dan memanggil variabel a tersebut."
   ]
  },
  {
   "cell_type": "code",
   "execution_count": 38,
   "metadata": {},
   "outputs": [
    {
     "name": "stdout",
     "output_type": "stream",
     "text": [
      "Soal Nomor 4\n"
     ]
    },
    {
     "data": {
      "text/latex": [
       "$\\displaystyle \\int \\left(-8 + \\frac{1}{w^{2}} + \\frac{10}{w^{5}}\\right)\\, dw$"
      ],
      "text/plain": [
       "Integral(-8 + w**(-2) + 10/w**5, w)"
      ]
     },
     "execution_count": 38,
     "metadata": {},
     "output_type": "execute_result"
    }
   ],
   "source": [
    "print('Soal Nomor 4')\n",
    "a = Integral(w**-2+10*w**-5-8)\n",
    "a"
   ]
  },
  {
   "cell_type": "markdown",
   "metadata": {},
   "source": [
    "Di bagian ini digunakan perintah print untuk menampilkan jawaban nomor 4. Lalu memanggil variabel disatukan dengan perintah doit dan fungsi simplify. Perintah doit untuk menghitung jumlah dari operasi aritmatika dan fungsi simplify untuk menyederhanakan jawaban yang diperoleh dari perintah doit."
   ]
  },
  {
   "cell_type": "code",
   "execution_count": 66,
   "metadata": {},
   "outputs": [
    {
     "name": "stdout",
     "output_type": "stream",
     "text": [
      "Jawaban Nomor 4\n"
     ]
    },
    {
     "data": {
      "text/latex": [
       "$\\displaystyle - 8 w - \\frac{1}{w} - \\frac{5}{2 w^{4}}$"
      ],
      "text/plain": [
       "-8*w - 1/w - 5/(2*w**4)"
      ]
     },
     "execution_count": 66,
     "metadata": {},
     "output_type": "execute_result"
    }
   ],
   "source": [
    "print('Jawaban Nomor 4')\n",
    "simplify(a.doit())"
   ]
  },
  {
   "cell_type": "markdown",
   "metadata": {},
   "source": [
    "Di bagian ini digunakan perintah print untuk menampilkan soal nomor 9. Lalu membuat variabel b yang berisi fungsi integral beserta soal dan memanggil variabel b tersebut."
   ]
  },
  {
   "cell_type": "code",
   "execution_count": 67,
   "metadata": {},
   "outputs": [
    {
     "name": "stdout",
     "output_type": "stream",
     "text": [
      "Soal Nomor 9\n"
     ]
    },
    {
     "data": {
      "text/latex": [
       "$\\displaystyle \\int \\left(- \\frac{2}{y^{1.33333333333333}} + \\frac{7}{3 y^{6}} + \\frac{1}{y^{10}}\\right)\\, dy$"
      ],
      "text/plain": [
       "Integral(-2*y**(-1.33333333333333) + 7/(3*y**6) + y**(-10), y)"
      ]
     },
     "execution_count": 67,
     "metadata": {},
     "output_type": "execute_result"
    }
   ],
   "source": [
    "print('Soal Nomor 9')\n",
    "b = Integral(7/(3*y**6)+1/y**10-2*y**(-4/3))\n",
    "b"
   ]
  },
  {
   "cell_type": "markdown",
   "metadata": {},
   "source": [
    "DI bagian ini digunakan perintah print untuk menampilkan jawaban nomor 9. Lalu memanggil variabel di satukan dengan perintah doit. Perintah doit untuk menghitung jumlah dari operasi aritmatika."
   ]
  },
  {
   "cell_type": "code",
   "execution_count": 68,
   "metadata": {},
   "outputs": [
    {
     "name": "stdout",
     "output_type": "stream",
     "text": [
      "Jawaban Nomor 9\n"
     ]
    },
    {
     "data": {
      "text/latex": [
       "$\\displaystyle \\frac{6.0}{y^{0.333333333333333}} - \\frac{7}{15 y^{5}} - \\frac{1}{9 y^{9}}$"
      ],
      "text/plain": [
       "6.0*y**(-0.333333333333333) - 7/(15*y**5) - 1/(9*y**9)"
      ]
     },
     "execution_count": 68,
     "metadata": {},
     "output_type": "execute_result"
    }
   ],
   "source": [
    "print('Jawaban Nomor 9')\n",
    "b.doit()"
   ]
  },
  {
   "cell_type": "markdown",
   "metadata": {},
   "source": [
    "Di bagian ini digunakan perintah print untuk menampilkan soal nomor 14. Lalu membuat variabel c yang berisi fungsi integral beserta soal dan memanggil variabel c tersebut"
   ]
  },
  {
   "cell_type": "code",
   "execution_count": 69,
   "metadata": {},
   "outputs": [
    {
     "name": "stdout",
     "output_type": "stream",
     "text": [
      "Soal Nomor 14\n"
     ]
    },
    {
     "data": {
      "text/latex": [
       "$\\displaystyle \\int \\left(\\sin{\\left(x \\right)} + 10 \\csc^{2}{\\left(x \\right)}\\right)\\, dx$"
      ],
      "text/plain": [
       "Integral(sin(x) + 10*csc(x)**2, x)"
      ]
     },
     "execution_count": 69,
     "metadata": {},
     "output_type": "execute_result"
    }
   ],
   "source": [
    "print('Soal Nomor 14')\n",
    "c = Integral(sin(x) + 10*csc(x)**2)\n",
    "c"
   ]
  },
  {
   "cell_type": "markdown",
   "metadata": {},
   "source": [
    "Di bagian ini digunakan perintah print untuk menampilkan jawaban nomor 14. Lalu memanggil variabel di satukan dengan perintah doit. Perintah doit untuk menghitung jumlah dari operasi aritmatika."
   ]
  },
  {
   "cell_type": "code",
   "execution_count": 70,
   "metadata": {},
   "outputs": [
    {
     "name": "stdout",
     "output_type": "stream",
     "text": [
      "Jawaban Nomor 14\n"
     ]
    },
    {
     "data": {
      "text/latex": [
       "$\\displaystyle - \\cos{\\left(x \\right)} - \\frac{10 \\cos{\\left(x \\right)}}{\\sin{\\left(x \\right)}}$"
      ],
      "text/plain": [
       "-cos(x) - 10*cos(x)/sin(x)"
      ]
     },
     "execution_count": 70,
     "metadata": {},
     "output_type": "execute_result"
    }
   ],
   "source": [
    "print('Jawaban Nomor 14')\n",
    "c.doit()"
   ]
  },
  {
   "cell_type": "markdown",
   "metadata": {},
   "source": [
    "Di bagian ini digunakan perintah print untuk menampilkan soal nomor 19. Lalu membuat variabel d yang berisi fungsi integral beserta soal dan memanggil variabel d tersebut"
   ]
  },
  {
   "cell_type": "code",
   "execution_count": 1,
   "metadata": {},
   "outputs": [
    {
     "name": "stdout",
     "output_type": "stream",
     "text": [
      "Soal Nomor 19\n"
     ]
    },
    {
     "ename": "NameError",
     "evalue": "name 'Integral' is not defined",
     "output_type": "error",
     "traceback": [
      "\u001b[1;31m---------------------------------------------------------------------------\u001b[0m",
      "\u001b[1;31mNameError\u001b[0m                                 Traceback (most recent call last)",
      "\u001b[1;32m<ipython-input-1-e03b422a31d5>\u001b[0m in \u001b[0;36m<module>\u001b[1;34m\u001b[0m\n\u001b[0;32m      1\u001b[0m \u001b[0mprint\u001b[0m\u001b[1;33m(\u001b[0m\u001b[1;34m'Soal Nomor 19'\u001b[0m\u001b[1;33m)\u001b[0m\u001b[1;33m\u001b[0m\u001b[1;33m\u001b[0m\u001b[0m\n\u001b[1;32m----> 2\u001b[1;33m \u001b[0md\u001b[0m \u001b[1;33m=\u001b[0m \u001b[0mIntegral\u001b[0m\u001b[1;33m(\u001b[0m\u001b[1;36m6\u001b[0m\u001b[1;33m*\u001b[0m\u001b[0mw\u001b[0m\u001b[1;33m**\u001b[0m\u001b[1;33m-\u001b[0m\u001b[1;36m3\u001b[0m \u001b[1;33m-\u001b[0m \u001b[1;36m2\u001b[0m\u001b[1;33m*\u001b[0m\u001b[0mw\u001b[0m\u001b[1;33m**\u001b[0m\u001b[1;33m-\u001b[0m\u001b[1;36m1\u001b[0m\u001b[1;33m)\u001b[0m\u001b[1;33m\u001b[0m\u001b[1;33m\u001b[0m\u001b[0m\n\u001b[0m\u001b[0;32m      3\u001b[0m \u001b[0md\u001b[0m\u001b[1;33m\u001b[0m\u001b[1;33m\u001b[0m\u001b[0m\n",
      "\u001b[1;31mNameError\u001b[0m: name 'Integral' is not defined"
     ]
    }
   ],
   "source": [
    "print('Soal Nomor 19')\n",
    "d = Integral(6*w**-3 - 2*w**-1)\n",
    "d"
   ]
  },
  {
   "cell_type": "markdown",
   "metadata": {},
   "source": [
    "Di bagian ini digunakan perintah print untuk menampilkan jawaban nomor 19. Lalu memanggil variabel di satukan dengan perintah doit. Perintah doit untuk menghitung jumlah dari operasi aritmatika."
   ]
  },
  {
   "cell_type": "code",
   "execution_count": 72,
   "metadata": {},
   "outputs": [
    {
     "name": "stdout",
     "output_type": "stream",
     "text": [
      "Jawaban Nomor 19\n"
     ]
    },
    {
     "data": {
      "text/latex": [
       "$\\displaystyle - 2 \\log{\\left(w \\right)} - \\frac{3}{w^{2}}$"
      ],
      "text/plain": [
       "-2*log(w) - 3/w**2"
      ]
     },
     "execution_count": 72,
     "metadata": {},
     "output_type": "execute_result"
    }
   ],
   "source": [
    "print('Jawaban Nomor 19')\n",
    "d.doit()"
   ]
  },
  {
   "cell_type": "code",
   "execution_count": null,
   "metadata": {},
   "outputs": [],
   "source": []
  }
 ],
 "metadata": {
  "kernelspec": {
   "display_name": "Python 3",
   "language": "python",
   "name": "python3"
  },
  "language_info": {
   "codemirror_mode": {
    "name": "ipython",
    "version": 3
   },
   "file_extension": ".py",
   "mimetype": "text/x-python",
   "name": "python",
   "nbconvert_exporter": "python",
   "pygments_lexer": "ipython3",
   "version": "3.7.3"
  }
 },
 "nbformat": 4,
 "nbformat_minor": 2
}
