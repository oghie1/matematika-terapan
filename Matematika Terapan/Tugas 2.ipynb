{
 "cells": [
  {
   "cell_type": "markdown",
   "metadata": {},
   "source": [
    "# Turunan"
   ]
  },
  {
   "cell_type": "code",
   "execution_count": 11,
   "metadata": {},
   "outputs": [],
   "source": [
    "import sympy as sym\n",
    "import math\n",
    "from sympy import *\n",
    "x, y, z = symbols('x y z')\n",
    "init_printing(use_unicode=True)"
   ]
  },
  {
   "cell_type": "code",
   "execution_count": 27,
   "metadata": {},
   "outputs": [
    {
     "name": "stdout",
     "output_type": "stream",
     "text": [
      "Soal Nomor 4\n"
     ]
    },
    {
     "data": {
      "image/png": "[encoded data removed]",
      "text/latex": [
       "$\\displaystyle \\frac{d}{d y} \\left(12 + \\frac{8}{y^{2}} - \\frac{9}{y^{3}} + \\frac{1}{y^{4}}\\right)$"
      ],
      "text/plain": [
       "d ⎛     8    9    1 ⎞\n",
       "──⎜12 + ── - ── + ──⎟\n",
       "dy⎜      2    3    4⎟\n",
       "  ⎝     y    y    y ⎠"
      ]
     },
     "execution_count": 27,
     "metadata": {},
     "output_type": "execute_result"
    }
   ],
   "source": [
    "print('Soal Nomor 4')\n",
    "a = Derivative(y**-4-9*y**-3+8*y**-2+12)\n",
    "a"
   ]
  },
  {
   "cell_type": "code",
   "execution_count": 3,
   "metadata": {},
   "outputs": [
    {
     "name": "stdout",
     "output_type": "stream",
     "text": [
      "Jawaban Nomor 1\n"
     ]
    },
    {
     "data": {
      "image/png": "[encoded data removed]",
      "text/latex": [
       "$\\displaystyle - \\frac{16}{y^{3}} + \\frac{27}{y^{4}} - \\frac{4}{y^{5}}$"
      ],
      "text/plain": [
       "  16   27   4 \n",
       "- ── + ── - ──\n",
       "   3    4    5\n",
       "  y    y    y "
      ]
     },
     "execution_count": 3,
     "metadata": {},
     "output_type": "execute_result"
    }
   ],
   "source": [
    "print('Jawaban Nomor 4')\n",
    "a.doit()"
   ]
  },
  {
   "cell_type": "code",
   "execution_count": 28,
   "metadata": {},
   "outputs": [
    {
     "name": "stdout",
     "output_type": "stream",
     "text": [
      "Soal Nomor 9\n"
     ]
    },
    {
     "data": {
      "image/png": "[encoded data removed]",
      "text/latex": [
       "$\\displaystyle \\frac{d}{d x} x \\left(3 x^{2} - 9\\right)$"
      ],
      "text/plain": [
       "d ⎛  ⎛   2    ⎞⎞\n",
       "──⎝x⋅⎝3⋅x  - 9⎠⎠\n",
       "dx              "
      ]
     },
     "execution_count": 28,
     "metadata": {},
     "output_type": "execute_result"
    }
   ],
   "source": [
    "print('Soal Nomor 9')\n",
    "b = Derivative(x*(3*x**2-9))\n",
    "b"
   ]
  },
  {
   "cell_type": "code",
   "execution_count": 29,
   "metadata": {},
   "outputs": [
    {
     "name": "stdout",
     "output_type": "stream",
     "text": [
      "Jawaban Nomor 9\n"
     ]
    },
    {
     "data": {
      "image/png": "[encoded data removed]",
      "text/latex": [
       "$\\displaystyle 9 x^{2} - 9$"
      ],
      "text/plain": [
       "   2    \n",
       "9⋅x  - 9"
      ]
     },
     "execution_count": 29,
     "metadata": {},
     "output_type": "execute_result"
    }
   ],
   "source": [
    "print('Jawaban Nomor 9')\n",
    "b.doit()"
   ]
  },
  {
   "cell_type": "code",
   "execution_count": 30,
   "metadata": {},
   "outputs": [
    {
     "name": "stdout",
     "output_type": "stream",
     "text": [
      "Soal Nomor 14\n"
     ]
    },
    {
     "data": {
      "image/png": "[encoded data removed]",
      "text/latex": [
       "$\\displaystyle \\frac{d}{d z} \\left(2 z^{4} - z^{3} - 3 z^{2}\\right)$"
      ],
      "text/plain": [
       "d ⎛   4    3      2⎞\n",
       "──⎝2⋅z  - z  - 3⋅z ⎠\n",
       "dz                  "
      ]
     },
     "execution_count": 30,
     "metadata": {},
     "output_type": "execute_result"
    }
   ],
   "source": [
    "print('Soal Nomor 14')\n",
    "c = Derivative(2*z**4-z**3-3*z**2)\n",
    "c"
   ]
  },
  {
   "cell_type": "code",
   "execution_count": 31,
   "metadata": {},
   "outputs": [
    {
     "name": "stdout",
     "output_type": "stream",
     "text": [
      "Jawaban Nomor 14\n"
     ]
    },
    {
     "data": {
      "image/png": "[encoded data removed]",
      "text/latex": [
       "$\\displaystyle z \\left(8 z^{2} - 3 z - 6\\right)$"
      ],
      "text/plain": [
       "  ⎛   2          ⎞\n",
       "z⋅⎝8⋅z  - 3⋅z - 6⎠"
      ]
     },
     "execution_count": 31,
     "metadata": {},
     "output_type": "execute_result"
    }
   ],
   "source": [
    "print('Jawaban Nomor 14')\n",
    "factor(c.doit())"
   ]
  },
  {
   "cell_type": "code",
   "execution_count": 24,
   "metadata": {},
   "outputs": [
    {
     "data": {
      "image/png": "[encoded data removed]",
      "text/latex": [
       "$\\displaystyle \\frac{3}{16} + \\frac{\\sqrt{201}}{16}$"
      ],
      "text/plain": [
       "3    √201\n",
       "── + ────\n",
       "16    16 "
      ]
     },
     "execution_count": 24,
     "metadata": {},
     "output_type": "execute_result"
    }
   ],
   "source": [
    "z1 = (3+sym.sqrt(201))/16\n",
    "z1"
   ]
  },
  {
   "cell_type": "code",
   "execution_count": 22,
   "metadata": {},
   "outputs": [
    {
     "data": {
      "image/png": "[encoded data removed]",
      "text/latex": [
       "$\\displaystyle 1.0735904299223642$"
      ],
      "text/plain": [
       "1.0735904299223642"
      ]
     },
     "execution_count": 22,
     "metadata": {},
     "output_type": "execute_result"
    }
   ],
   "source": [
    "z1 = (3+math.sqrt(201))/16\n",
    "z1"
   ]
  },
  {
   "cell_type": "code",
   "execution_count": 23,
   "metadata": {},
   "outputs": [
    {
     "data": {
      "image/png": "[encoded data removed]",
      "text/latex": [
       "$\\displaystyle \\frac{3}{16} - \\frac{\\sqrt{201}}{16}$"
      ],
      "text/plain": [
       "3    √201\n",
       "── - ────\n",
       "16    16 "
      ]
     },
     "execution_count": 23,
     "metadata": {},
     "output_type": "execute_result"
    }
   ],
   "source": [
    "z2 = (3-sym.sqrt(201))/16\n",
    "z2"
   ]
  },
  {
   "cell_type": "code",
   "execution_count": 20,
   "metadata": {},
   "outputs": [
    {
     "data": {
      "image/png": "[encoded data removed]",
      "text/latex": [
       "$\\displaystyle -0.6985904299223641$"
      ],
      "text/plain": [
       "-0.6985904299223641"
      ]
     },
     "execution_count": 20,
     "metadata": {},
     "output_type": "execute_result"
    }
   ],
   "source": [
    "z2 = (3-math.sqrt(201))/16\n",
    "z2"
   ]
  },
  {
   "cell_type": "code",
   "execution_count": 32,
   "metadata": {},
   "outputs": [
    {
     "name": "stdout",
     "output_type": "stream",
     "text": [
      "Soal Nomor 19\n"
     ]
    },
    {
     "data": {
      "image/png": "[encoded data removed]",
      "text/latex": [
       "$\\displaystyle \\frac{d}{d x} \\left(x - 2\\right)^{2} \\left(x + 1\\right)$"
      ],
      "text/plain": [
       "d ⎛       2        ⎞\n",
       "──⎝(x - 2) ⋅(x + 1)⎠\n",
       "dx                  "
      ]
     },
     "execution_count": 32,
     "metadata": {},
     "output_type": "execute_result"
    }
   ],
   "source": [
    "print('Soal Nomor 19')\n",
    "d = Derivative((x+1)*(x-2)**2)\n",
    "d"
   ]
  },
  {
   "cell_type": "code",
   "execution_count": 26,
   "metadata": {},
   "outputs": [
    {
     "name": "stdout",
     "output_type": "stream",
     "text": [
      "Jawaban Nomor 19\n"
     ]
    },
    {
     "data": {
      "image/png": "[encoded data removed]",
      "text/latex": [
       "$\\displaystyle \\left(x - 2\\right)^{2} + \\left(x + 1\\right) \\left(2 x - 4\\right)$"
      ],
      "text/plain": [
       "       2                    \n",
       "(x - 2)  + (x + 1)⋅(2⋅x - 4)"
      ]
     },
     "execution_count": 26,
     "metadata": {},
     "output_type": "execute_result"
    }
   ],
   "source": [
    "print('Jawaban Nomor 19')\n",
    "d.doit()"
   ]
  }
 ],
 "metadata": {
  "kernelspec": {
   "display_name": "Python 3",
   "language": "python",
   "name": "python3"
  },
  "language_info": {
   "codemirror_mode": {
    "name": "ipython",
    "version": 3
   },
   "file_extension": ".py",
   "mimetype": "text/x-python",
   "name": "python",
   "nbconvert_exporter": "python",
   "pygments_lexer": "ipython3",
   "version": "3.7.3"
  }
 },
 "nbformat": 4,
 "nbformat_minor": 2
}
